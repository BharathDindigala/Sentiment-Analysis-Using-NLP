{
 "cells": [
  {
   "cell_type": "code",
   "execution_count": 2,
   "id": "b1bb8a80",
   "metadata": {},
   "outputs": [],
   "source": [
    "# pip install textblob"
   ]
  },
  {
   "cell_type": "code",
   "execution_count": null,
   "id": "db249d0a",
   "metadata": {},
   "outputs": [
    {
     "name": "stderr",
     "output_type": "stream",
     "text": [
      "[nltk_data] Downloading package punkt to\n",
      "[nltk_data]     C:\\Users\\shiva\\AppData\\Roaming\\nltk_data...\n"
     ]
    }
   ],
   "source": [
    "import nltk\n",
    "from textblob import TextBlob\n",
    "\n",
    "# Download NLTK data (if not already downloaded)\n",
    "nltk.download('punkt')\n",
    "\n",
    "def analyze_sentiment(text):\n",
    "    # Create a TextBlob object\n",
    "    blob = TextBlob(text)\n",
    "\n",
    "    # Get the sentiment polarity (-1 to 1)\n",
    "    sentiment_polarity = blob.sentiment.polarity\n",
    "\n",
    "    # Classify sentiment as positive, negative, or neutral\n",
    "    if sentiment_polarity > 0:\n",
    "        sentiment = 'Positive'\n",
    "    elif sentiment_polarity < 0:\n",
    "        sentiment = 'Negative'\n",
    "    else:\n",
    "        sentiment = 'Neutral'\n",
    "\n",
    "    print(f\"Sentiment: {sentiment}\")\n",
    "    print(f\"Sentiment Score: {sentiment_polarity}\")\n"
   ]
  },
  {
   "cell_type": "code",
   "execution_count": null,
   "id": "c955ee8f",
   "metadata": {},
   "outputs": [],
   "source": [
    "# Example usage\n",
    "text_to_analyze = \"I love this product! It's amazing.\"\n",
    "analyze_sentiment(text_to_analyze)"
   ]
  },
  {
   "cell_type": "code",
   "execution_count": null,
   "id": "406bd09c",
   "metadata": {},
   "outputs": [],
   "source": [
    "text_to_analyze = \"I Hate apples, because they keep the doctors away\"\n",
    "analyze_sentiment(text_to_analyze)"
   ]
  }
 ],
 "metadata": {
  "kernelspec": {
   "display_name": "Python 3 (ipykernel)",
   "language": "python",
   "name": "python3"
  },
  "language_info": {
   "codemirror_mode": {
    "name": "ipython",
    "version": 3
   },
   "file_extension": ".py",
   "mimetype": "text/x-python",
   "name": "python",
   "nbconvert_exporter": "python",
   "pygments_lexer": "ipython3",
   "version": "3.10.9"
  }
 },
 "nbformat": 4,
 "nbformat_minor": 5
}
